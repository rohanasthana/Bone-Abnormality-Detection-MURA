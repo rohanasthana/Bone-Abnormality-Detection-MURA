{
  "nbformat": 4,
  "nbformat_minor": 0,
  "metadata": {
    "colab": {
      "name": "Untitled32.ipynb",
      "version": "0.3.2",
      "provenance": []
    },
    "kernelspec": {
      "name": "python3",
      "display_name": "Python 3"
    },
    "accelerator": "GPU"
  },
  "cells": [
    {
      "cell_type": "code",
      "metadata": {
        "id": "Hw76bXnOe9JN",
        "colab_type": "code",
        "outputId": "e04fb2e4-78bc-4f86-e511-78e4344af282",
        "colab": {
          "base_uri": "https://localhost:8080/",
          "height": 51
        }
      },
      "source": [
        "!pip install -U -q PyDrive\n",
        "from pydrive.auth import GoogleAuth\n",
        "from pydrive.drive import GoogleDrive\n",
        "from google.colab import auth\n",
        "from oauth2client.client import GoogleCredentials\n",
        "# Authenticate and create the PyDrive client.\n",
        "auth.authenticate_user()\n",
        "gauth = GoogleAuth()\n",
        "gauth.credentials = GoogleCredentials.get_application_default()\n",
        "drive = GoogleDrive(gauth)"
      ],
      "execution_count": 0,
      "outputs": [
        {
          "output_type": "stream",
          "text": [
            "\u001b[?25l\r\u001b[K     |▎                               | 10kB 17.2MB/s eta 0:00:01\r\u001b[K     |▋                               | 20kB 4.6MB/s eta 0:00:01\r\u001b[K     |█                               | 30kB 6.6MB/s eta 0:00:01\r\u001b[K     |█▎                              | 40kB 4.1MB/s eta 0:00:01\r\u001b[K     |█▋                              | 51kB 5.0MB/s eta 0:00:01\r\u001b[K     |██                              | 61kB 5.9MB/s eta 0:00:01\r\u001b[K     |██▎                             | 71kB 6.7MB/s eta 0:00:01\r\u001b[K     |██▋                             | 81kB 7.5MB/s eta 0:00:01\r\u001b[K     |███                             | 92kB 8.2MB/s eta 0:00:01\r\u001b[K     |███▎                            | 102kB 6.6MB/s eta 0:00:01\r\u001b[K     |███▋                            | 112kB 6.6MB/s eta 0:00:01\r\u001b[K     |████                            | 122kB 6.6MB/s eta 0:00:01\r\u001b[K     |████▎                           | 133kB 6.6MB/s eta 0:00:01\r\u001b[K     |████▋                           | 143kB 6.6MB/s eta 0:00:01\r\u001b[K     |█████                           | 153kB 6.6MB/s eta 0:00:01\r\u001b[K     |█████▎                          | 163kB 6.6MB/s eta 0:00:01\r\u001b[K     |█████▋                          | 174kB 6.6MB/s eta 0:00:01\r\u001b[K     |██████                          | 184kB 6.6MB/s eta 0:00:01\r\u001b[K     |██████▎                         | 194kB 6.6MB/s eta 0:00:01\r\u001b[K     |██████▋                         | 204kB 6.6MB/s eta 0:00:01\r\u001b[K     |███████                         | 215kB 6.6MB/s eta 0:00:01\r\u001b[K     |███████▎                        | 225kB 6.6MB/s eta 0:00:01\r\u001b[K     |███████▋                        | 235kB 6.6MB/s eta 0:00:01\r\u001b[K     |████████                        | 245kB 6.6MB/s eta 0:00:01\r\u001b[K     |████████▎                       | 256kB 6.6MB/s eta 0:00:01\r\u001b[K     |████████▋                       | 266kB 6.6MB/s eta 0:00:01\r\u001b[K     |█████████                       | 276kB 6.6MB/s eta 0:00:01\r\u001b[K     |█████████▎                      | 286kB 6.6MB/s eta 0:00:01\r\u001b[K     |█████████▋                      | 296kB 6.6MB/s eta 0:00:01\r\u001b[K     |██████████                      | 307kB 6.6MB/s eta 0:00:01\r\u001b[K     |██████████▎                     | 317kB 6.6MB/s eta 0:00:01\r\u001b[K     |██████████▋                     | 327kB 6.6MB/s eta 0:00:01\r\u001b[K     |███████████                     | 337kB 6.6MB/s eta 0:00:01\r\u001b[K     |███████████▎                    | 348kB 6.6MB/s eta 0:00:01\r\u001b[K     |███████████▋                    | 358kB 6.6MB/s eta 0:00:01\r\u001b[K     |████████████                    | 368kB 6.6MB/s eta 0:00:01\r\u001b[K     |████████████▎                   | 378kB 6.6MB/s eta 0:00:01\r\u001b[K     |████████████▋                   | 389kB 6.6MB/s eta 0:00:01\r\u001b[K     |█████████████                   | 399kB 6.6MB/s eta 0:00:01\r\u001b[K     |█████████████▎                  | 409kB 6.6MB/s eta 0:00:01\r\u001b[K     |█████████████▋                  | 419kB 6.6MB/s eta 0:00:01\r\u001b[K     |██████████████                  | 430kB 6.6MB/s eta 0:00:01\r\u001b[K     |██████████████▎                 | 440kB 6.6MB/s eta 0:00:01\r\u001b[K     |██████████████▋                 | 450kB 6.6MB/s eta 0:00:01\r\u001b[K     |███████████████                 | 460kB 6.6MB/s eta 0:00:01\r\u001b[K     |███████████████▎                | 471kB 6.6MB/s eta 0:00:01\r\u001b[K     |███████████████▋                | 481kB 6.6MB/s eta 0:00:01\r\u001b[K     |████████████████                | 491kB 6.6MB/s eta 0:00:01\r\u001b[K     |████████████████▎               | 501kB 6.6MB/s eta 0:00:01\r\u001b[K     |████████████████▋               | 512kB 6.6MB/s eta 0:00:01\r\u001b[K     |█████████████████               | 522kB 6.6MB/s eta 0:00:01\r\u001b[K     |█████████████████▎              | 532kB 6.6MB/s eta 0:00:01\r\u001b[K     |█████████████████▋              | 542kB 6.6MB/s eta 0:00:01\r\u001b[K     |██████████████████              | 552kB 6.6MB/s eta 0:00:01\r\u001b[K     |██████████████████▎             | 563kB 6.6MB/s eta 0:00:01\r\u001b[K     |██████████████████▋             | 573kB 6.6MB/s eta 0:00:01\r\u001b[K     |███████████████████             | 583kB 6.6MB/s eta 0:00:01\r\u001b[K     |███████████████████▎            | 593kB 6.6MB/s eta 0:00:01\r\u001b[K     |███████████████████▋            | 604kB 6.6MB/s eta 0:00:01\r\u001b[K     |████████████████████            | 614kB 6.6MB/s eta 0:00:01\r\u001b[K     |████████████████████▎           | 624kB 6.6MB/s eta 0:00:01\r\u001b[K     |████████████████████▋           | 634kB 6.6MB/s eta 0:00:01\r\u001b[K     |█████████████████████           | 645kB 6.6MB/s eta 0:00:01\r\u001b[K     |█████████████████████▎          | 655kB 6.6MB/s eta 0:00:01\r\u001b[K     |█████████████████████▋          | 665kB 6.6MB/s eta 0:00:01\r\u001b[K     |██████████████████████          | 675kB 6.6MB/s eta 0:00:01\r\u001b[K     |██████████████████████▎         | 686kB 6.6MB/s eta 0:00:01\r\u001b[K     |██████████████████████▋         | 696kB 6.6MB/s eta 0:00:01\r\u001b[K     |███████████████████████         | 706kB 6.6MB/s eta 0:00:01\r\u001b[K     |███████████████████████▎        | 716kB 6.6MB/s eta 0:00:01\r\u001b[K     |███████████████████████▋        | 727kB 6.6MB/s eta 0:00:01\r\u001b[K     |████████████████████████        | 737kB 6.6MB/s eta 0:00:01\r\u001b[K     |████████████████████████▎       | 747kB 6.6MB/s eta 0:00:01\r\u001b[K     |████████████████████████▋       | 757kB 6.6MB/s eta 0:00:01\r\u001b[K     |████████████████████████▉       | 768kB 6.6MB/s eta 0:00:01\r\u001b[K     |█████████████████████████▏      | 778kB 6.6MB/s eta 0:00:01\r\u001b[K     |█████████████████████████▌      | 788kB 6.6MB/s eta 0:00:01\r\u001b[K     |█████████████████████████▉      | 798kB 6.6MB/s eta 0:00:01\r\u001b[K     |██████████████████████████▏     | 808kB 6.6MB/s eta 0:00:01\r\u001b[K     |██████████████████████████▌     | 819kB 6.6MB/s eta 0:00:01\r\u001b[K     |██████████████████████████▉     | 829kB 6.6MB/s eta 0:00:01\r\u001b[K     |███████████████████████████▏    | 839kB 6.6MB/s eta 0:00:01\r\u001b[K     |███████████████████████████▌    | 849kB 6.6MB/s eta 0:00:01\r\u001b[K     |███████████████████████████▉    | 860kB 6.6MB/s eta 0:00:01\r\u001b[K     |████████████████████████████▏   | 870kB 6.6MB/s eta 0:00:01\r\u001b[K     |████████████████████████████▌   | 880kB 6.6MB/s eta 0:00:01\r\u001b[K     |████████████████████████████▉   | 890kB 6.6MB/s eta 0:00:01\r\u001b[K     |█████████████████████████████▏  | 901kB 6.6MB/s eta 0:00:01\r\u001b[K     |█████████████████████████████▌  | 911kB 6.6MB/s eta 0:00:01\r\u001b[K     |█████████████████████████████▉  | 921kB 6.6MB/s eta 0:00:01\r\u001b[K     |██████████████████████████████▏ | 931kB 6.6MB/s eta 0:00:01\r\u001b[K     |██████████████████████████████▌ | 942kB 6.6MB/s eta 0:00:01\r\u001b[K     |██████████████████████████████▉ | 952kB 6.6MB/s eta 0:00:01\r\u001b[K     |███████████████████████████████▏| 962kB 6.6MB/s eta 0:00:01\r\u001b[K     |███████████████████████████████▌| 972kB 6.6MB/s eta 0:00:01\r\u001b[K     |███████████████████████████████▉| 983kB 6.6MB/s eta 0:00:01\r\u001b[K     |████████████████████████████████| 993kB 6.6MB/s \n",
            "\u001b[?25h  Building wheel for PyDrive (setup.py) ... \u001b[?25l\u001b[?25hdone\n"
          ],
          "name": "stdout"
        }
      ]
    },
    {
      "cell_type": "code",
      "metadata": {
        "id": "1GTfol_8e_h5",
        "colab_type": "code",
        "colab": {}
      },
      "source": [
        "downloaded = drive.CreateFile({'id':'1PitgBL1Yl0AvHjwx0W9lqcvoArPCGxBz'}) \n",
        "downloaded.GetContentFile('Mura.zip')  "
      ],
      "execution_count": 0,
      "outputs": []
    },
    {
      "cell_type": "code",
      "metadata": {
        "id": "R4hUNe1OgbLu",
        "colab_type": "code",
        "outputId": "0e54bc92-0f60-4bf1-ccec-bfa86b250dc1",
        "colab": {
          "base_uri": "https://localhost:8080/",
          "height": 34
        }
      },
      "source": [
        "!ls"
      ],
      "execution_count": 0,
      "outputs": [
        {
          "output_type": "stream",
          "text": [
            "adc.json  Mura.zip  sample_data\n"
          ],
          "name": "stdout"
        }
      ]
    },
    {
      "cell_type": "code",
      "metadata": {
        "id": "lRXtsDS2g3GY",
        "colab_type": "code",
        "colab": {}
      },
      "source": [
        "from zipfile import ZipFile\n",
        "mura=ZipFile('Mura.zip')"
      ],
      "execution_count": 0,
      "outputs": []
    },
    {
      "cell_type": "code",
      "metadata": {
        "id": "PzBW1Z9kg_-v",
        "colab_type": "code",
        "colab": {}
      },
      "source": [
        "mura.extractall()"
      ],
      "execution_count": 0,
      "outputs": []
    },
    {
      "cell_type": "code",
      "metadata": {
        "id": "RyS7taDAhCJ4",
        "colab_type": "code",
        "outputId": "f1af0e8b-7c9a-426a-8e26-ef4309062b80",
        "colab": {
          "base_uri": "https://localhost:8080/",
          "height": 34
        }
      },
      "source": [
        "!ls"
      ],
      "execution_count": 0,
      "outputs": [
        {
          "output_type": "stream",
          "text": [
            "adc.json  MURA-v1.1  Mura.zip  sample_data\n"
          ],
          "name": "stdout"
        }
      ]
    },
    {
      "cell_type": "code",
      "metadata": {
        "id": "YriySdIshaSZ",
        "colab_type": "code",
        "outputId": "2a6d691a-2f64-4dd3-b91a-45482914fa5d",
        "colab": {
          "base_uri": "https://localhost:8080/",
          "height": 34
        }
      },
      "source": [
        "from keras.preprocessing import image\n",
        "import pandas as pd\n",
        "import numpy as np\n",
        "from keras.applications.imagenet_utils import preprocess_input\n",
        "from sklearn.preprocessing import LabelEncoder\n",
        "from sklearn.preprocessing import OneHotEncoder\n",
        "def prepareImages():\n",
        "\timgdata=[]\n",
        "\tdf=pd.read_csv('MURA-v1.1/train_image_paths.csv',names=['Path'])\n",
        "\timagearray=df['Path'].values\n",
        "\tprint(imagearray)\n",
        "\tpath=\"\"\n",
        "\tfor i in imagearray:\n",
        "\t\timagepath=path+i\n",
        "\t\tim=image.load_img(imagepath,target_size=(100,100,3))\n",
        "\t\tx1=image.img_to_array(im)\n",
        "\t\tx1=preprocess_input(x1)\n",
        "\t\t\n",
        "\t\timgdata.append(x1)\n",
        "\n",
        "\timage_data=np.array(imgdata)\n",
        "\tnp.save('image.npy',image_data)\n",
        "\tprint(image_data.shape)\n",
        "\treturn image_data\n",
        "\n",
        "def prepareLabels():\n",
        "\tdf=pd.read_csv('MURA-v1.1/train_image_paths.csv',names=['Path'])\n",
        "\tnames=df['Path'].values\n",
        "\tvalues=[]\n",
        "\tfor i in names:\n",
        "\t\tif ('positive' in i):\n",
        "\t\t\tvalues.append('1')\n",
        "\t\telif('negative' in i):\n",
        "\t\t\tvalues.append('0')\n",
        "\n",
        "\tprint(len(values))\n",
        "\tlabel_encoder = LabelEncoder()\n",
        "\tinteger_encoded = label_encoder.fit_transform(values)\n",
        "\tonehot_encoder = OneHotEncoder(sparse=False)\n",
        "\tinteger_encoded = integer_encoded.reshape(len(integer_encoded), 1)\n",
        "\tonehot_encoded = onehot_encoder.fit_transform(integer_encoded)\n",
        "\treturn integer_encoded\n",
        "\n",
        "\n",
        "\n"
      ],
      "execution_count": 0,
      "outputs": [
        {
          "output_type": "stream",
          "text": [
            "Using TensorFlow backend.\n"
          ],
          "name": "stderr"
        }
      ]
    },
    {
      "cell_type": "code",
      "metadata": {
        "id": "T8GKA_J-hgZa",
        "colab_type": "code",
        "outputId": "0a58c89f-dea3-4bcf-ad2d-bdc494c6707e",
        "colab": {
          "base_uri": "https://localhost:8080/",
          "height": 1012
        }
      },
      "source": [
        "\n",
        "from keras import layers\n",
        "from keras.layers import Input, Dense, Activation, BatchNormalization, Flatten, Conv2D\n",
        "from keras.layers import AveragePooling2D, MaxPooling2D, Dropout\n",
        "from keras.models import Model\n",
        "import gc\n",
        "import keras.backend as K\n",
        "from keras.models import Sequential\n",
        "import matplotlib.pyplot as plt\n",
        "import matplotlib.image as mplimg\n",
        "from matplotlib.pyplot import imshow\n",
        "from keras.applications.densenet import DenseNet169\n",
        "from keras.layers import Dense\n",
        "from keras import optimizers\n",
        "from keras.models import Model\n",
        "\n",
        "\n",
        "\n",
        "def prepareModel():\n",
        "    dense_169_model = DenseNet169(include_top=False, weights='imagenet', input_shape=(100, 100, 3))\n",
        "    dense_169_model.layers.pop()\n",
        "    x = dense_169_model.output\n",
        "    flat=Flatten()(x)\n",
        "    predictions = Dense(1, activation='sigmoid')(flat)\n",
        "    model = Model(inputs=dense_169_model.input, outputs=predictions)\n",
        "\n",
        "    for layer in dense_169_model.layers:\n",
        "        layer.trainable = True\n",
        "\n",
        "    adam = optimizers.Adam(lr=0.001)\n",
        "    model.compile(optimizer=adam,\n",
        "                  loss='binary_crossentropy',\n",
        "                  metrics=['accuracy'])\n",
        "\n",
        "    \n",
        "    return model\n",
        "\n",
        "\n",
        "\n",
        "\n",
        "\n",
        "y_train=prepareLabels()\n",
        "model=prepareModel()\n",
        "X_train=np.load('image.npy')\n",
        "X_train /= 255\n",
        "\n",
        "history=model.fit(X_train,y_train,epochs=15,batch_size=32,verbose=1)\n",
        "model.save('model.h5')\n",
        "gc.collect()\n",
        "plt.plot(history.history['acc'])\n",
        "plt.title('Model accuracy')\n",
        "plt.ylabel('Accuracy')\n",
        "plt.xlabel('Epoch')\n",
        "plt.show()\n",
        "\n"
      ],
      "execution_count": 0,
      "outputs": [
        {
          "output_type": "stream",
          "text": [
            "36808\n",
            "WARNING:tensorflow:From /usr/local/lib/python3.6/dist-packages/tensorflow/python/framework/op_def_library.py:263: colocate_with (from tensorflow.python.framework.ops) is deprecated and will be removed in a future version.\n",
            "Instructions for updating:\n",
            "Colocations handled automatically by placer.\n"
          ],
          "name": "stdout"
        },
        {
          "output_type": "stream",
          "text": [
            "/usr/local/lib/python3.6/dist-packages/sklearn/preprocessing/_encoders.py:371: FutureWarning: The handling of integer data will change in version 0.22. Currently, the categories are determined based on the range [0, max(values)], while in the future they will be determined based on the unique values.\n",
            "If you want the future behaviour and silence this warning, you can specify \"categories='auto'\".\n",
            "In case you used a LabelEncoder before this OneHotEncoder to convert the categories to integers, then you can now use the OneHotEncoder directly.\n",
            "  warnings.warn(msg, FutureWarning)\n"
          ],
          "name": "stderr"
        },
        {
          "output_type": "stream",
          "text": [
            "WARNING:tensorflow:From /usr/local/lib/python3.6/dist-packages/tensorflow/python/ops/math_ops.py:3066: to_int32 (from tensorflow.python.ops.math_ops) is deprecated and will be removed in a future version.\n",
            "Instructions for updating:\n",
            "Use tf.cast instead.\n",
            "Epoch 1/15\n",
            "36808/36808 [==============================] - 471s 13ms/step - loss: 0.9435 - acc: 0.5646\n",
            "Epoch 2/15\n",
            "36808/36808 [==============================] - 430s 12ms/step - loss: 0.8583 - acc: 0.5823\n",
            "Epoch 3/15\n",
            "36808/36808 [==============================] - 429s 12ms/step - loss: 0.8462 - acc: 0.5931\n",
            "Epoch 4/15\n",
            "36808/36808 [==============================] - 430s 12ms/step - loss: 0.8482 - acc: 0.5927\n",
            "Epoch 5/15\n",
            "36808/36808 [==============================] - 429s 12ms/step - loss: 0.9279 - acc: 0.5935\n",
            "Epoch 6/15\n",
            "36808/36808 [==============================] - 430s 12ms/step - loss: 0.9565 - acc: 0.5976\n",
            "Epoch 7/15\n",
            "36808/36808 [==============================] - 428s 12ms/step - loss: 0.9910 - acc: 0.5939\n",
            "Epoch 8/15\n",
            "36808/36808 [==============================] - 428s 12ms/step - loss: 0.9843 - acc: 0.5814\n",
            "Epoch 9/15\n",
            "36808/36808 [==============================] - 428s 12ms/step - loss: 0.9959 - acc: 0.5814\n",
            "Epoch 10/15\n",
            "36808/36808 [==============================] - 428s 12ms/step - loss: 0.9898 - acc: 0.5813\n",
            "Epoch 11/15\n",
            "36808/36808 [==============================] - 428s 12ms/step - loss: 0.9637 - acc: 0.5863\n",
            "Epoch 12/15\n",
            "36808/36808 [==============================] - 428s 12ms/step - loss: 0.9421 - acc: 0.5955\n",
            "Epoch 13/15\n",
            "36808/36808 [==============================] - 428s 12ms/step - loss: 0.9029 - acc: 0.6002\n",
            "Epoch 14/15\n",
            "36808/36808 [==============================] - 428s 12ms/step - loss: 0.9151 - acc: 0.5937\n",
            "Epoch 15/15\n",
            "36808/36808 [==============================] - 428s 12ms/step - loss: 0.9849 - acc: 0.5817\n"
          ],
          "name": "stdout"
        },
        {
          "output_type": "display_data",
          "data": {
            "image/png": "[encoded data removed]",
            "text/plain": [
              "<Figure size 432x288 with 1 Axes>"
            ]
          },
          "metadata": {
            "tags": []
          }
        }
      ]
    },
    {
      "cell_type": "code",
      "metadata": {
        "id": "i_HsACxGhmMG",
        "colab_type": "code",
        "outputId": "c440a350-99bc-4a6d-9580-667d43f37c43",
        "colab": {
          "base_uri": "https://localhost:8080/",
          "height": 34
        }
      },
      "source": [
        "!ls"
      ],
      "execution_count": 0,
      "outputs": [
        {
          "output_type": "stream",
          "text": [
            "adc.json  image.npy  MURA-v1.1\tMura.zip  sample_data\n"
          ],
          "name": "stdout"
        }
      ]
    },
    {
      "cell_type": "code",
      "metadata": {
        "id": "_mIrL-resU8V",
        "colab_type": "code",
        "colab": {}
      },
      "source": [
        ""
      ],
      "execution_count": 0,
      "outputs": []
    }
  ]
}